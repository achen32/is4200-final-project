{
 "cells": [
  {
   "cell_type": "code",
   "execution_count": null,
   "metadata": {
    "colab": {
     "base_uri": "https://localhost:8080/"
    },
    "id": "11IbDCm59FS5",
    "outputId": "b96de1c7-f74a-4617-ec86-a52aecc98cb3"
   },
   "outputs": [],
   "source": [
    "! pip install sentence-transformers"
   ]
  },
  {
   "cell_type": "code",
   "execution_count": null,
   "metadata": {
    "colab": {
     "base_uri": "https://localhost:8080/"
    },
    "id": "D1mt1--D9FS7",
    "outputId": "6d1d3357-fde7-4dc0-95b4-5772124fe8c6",
    "vscode": {
     "languageId": "plaintext"
    }
   },
   "outputs": [],
   "source": [
    "import kagglehub\n",
    "\n",
    "# Load Kaggle dataset\n",
    "path = kagglehub.dataset_download(\"nikhilnayak123/5-million-song-lyrics-dataset\")\n",
    "\n",
    "print(\"Path to dataset files:\", path)"
   ]
  },
  {
   "cell_type": "code",
   "execution_count": null,
   "metadata": {
    "colab": {
     "base_uri": "https://localhost:8080/"
    },
    "id": "RjrFIiG2BJlZ",
    "outputId": "2c953f7b-8896-4803-efb3-0a5af739b965"
   },
   "outputs": [],
   "source": [
    "import os\n",
    "import pandas as pd\n",
    "import numpy as np\n",
    "import torch\n",
    "import pickle\n",
    "import os\n",
    "from tqdm import tqdm\n",
    "\n",
    "data_file = os.path.join(path, os.listdir(path)[0])\n",
    "\n",
    "df = pd.read_csv(data_file)\n",
    "\n",
    "# Take 300,000 random samples\n",
    "df_sample = df.sample(n=300000, random_state=42)\n",
    "\n",
    "print(f\"Sampled dataset shape: {df_sample.shape}\")"
   ]
  },
  {
   "cell_type": "code",
   "execution_count": null,
   "metadata": {
    "colab": {
     "base_uri": "https://localhost:8080/",
     "height": 293
    },
    "id": "mGIDs5rJDtwR",
    "outputId": "62ad824d-2d1f-4130-93a1-49f5acb2b2cc"
   },
   "outputs": [],
   "source": [
    "df.head()"
   ]
  },
  {
   "cell_type": "code",
   "execution_count": null,
   "metadata": {
    "colab": {
     "base_uri": "https://localhost:8080/",
     "height": 1000,
     "referenced_widgets": [
      "8b84558dfb794c829fd1d3ff1c046652",
      "27870ec81e4d4bdb8766269cc0e223cf",
      "31cbe7e84360420b9b9db9b39f26c191",
      "56874999120c4a94a96b2998d09798ca",
      "5afdc5ba6ac2432893703e357bd3292c",
      "775f33b277344f6691e9d87210031c3e",
      "aea6d1e15a3a464bb655bfe14643d84a",
      "02424d83c29f46f081dd134819fddd05",
      "9bde576db2b04e6792604378777ac793",
      "4e55fe1c03ab4702a339297db3c4dc48",
      "77027a6e683d48fa80ea8ba5b60ff2ac",
      "a06614d6a6d74dcf8bbbf962f6a7b957",
      "becfb640901146649c58b9ed0f6041ee",
      "6e50765e28a242589259f339f56bb07c",
      "abb9a5aa104644c2a813bc5ffa02fe25",
      "1ae64be11d6a4bceb914804c209b56e9",
      "9a995dee48ac4b01b822c5f6b557c3bf",
      "a052b74a7e4044cb97783dfbbf8c79c0",
      "99f43e2883044ec987cb92397fd37c08",
      "2b1afd15a7ca4c2399144a8cbd3fd6eb",
      "e6bd11ff250b4add95571d1162631fca",
      "5f2557ea93f540cdaf52d1f4d82fa925",
      "1dce7081df8f458692ee2224632409a9",
      "6fc3fb8f13ab4905a75ffc2937e6027f",
      "20b3970cf02b4abf96eb5a142bc41c60",
      "7e364092fff547858cb4469d9ade2238",
      "8ff8ebd6af8d4ec092dc89716b71c398",
      "cdc6532a21eb4119bd6bf537634f4d98",
      "e2322b1ff1984ff68e40f824ee05379a",
      "2c85ba0a8a2548adab5fecb10bcbdb39",
      "020a5f78e3ea471ca93635376a610282",
      "3110703f6fa542a9a336400ca4c5b6f6",
      "3d06e793a9e34a7e932702885b960ef9",
      "77ebeb19d85b4d06a3808d422f39eb88",
      "318c003c93ee413b96ac0c17b0bb57de",
      "3809e1fa471741d5ada8a385a61734b6",
      "d1dde8875a814265b2860edec22a7f82",
      "14e0a1c61cea493db03f006b0161dd21",
      "bc39a857fa2545c4a3d0a55877e781d5",
      "ee7970e05bcc4820ae4e6ee063543c49",
      "afae0559610f46f3a6d9a2c8ff218ba1",
      "f2c87ab5b1354d5f881b25e10198feca",
      "2dcac0fde93a495d81625ebc5552740d",
      "dc37e7a5891248cf99b461420e5bb34a",
      "3e8a56c233044ef8808a4faf6c771417",
      "6dd5576ef6e5496a9d0a8e7112b9550e",
      "c8a7391a2b634ac4b4c445d85bf4d91e",
      "d9aa9878b1b24bcd91f3384c6ed8d679",
      "cf66b99c3dad454a8a4a79991cec20a3",
      "fc9c6d7efdfb42c7988d9900ac7d4e4d",
      "1f4f3f78a0224801b0cef2da48de3f5c",
      "e50eb4249a49483695f00008d5df5ba9",
      "edd77a52e3284ae3b3f95bcdf2063f26",
      "1296cbcecee246f083e42485de57177a",
      "64950d08daeb414a93b5f6a5d8f983fc",
      "87dc7fe3c09846388372e882bf843377",
      "d1f9f1f85a3443159509b40d7255c0eb",
      "460400db62fa4e3a8909ab1c93b1571e",
      "e84e87c186fd47cba04955fe9123be29",
      "3aeae6aa0a5e4f05a5367c11b76381e8",
      "3237497c3ed84fbdbd8136a04b6e860b",
      "3bf7080712a6494690f7a4d276d49e2f",
      "299212f301044a21aa6c933b99b68c2a",
      "65bef29c7dae45e5b3c0e251a9ea3410",
      "1d43fa2f24904ef3b1e8a9f51600fcd0",
      "47a37850c99d422f94dbf2e91f687572",
      "52909e5283ca4b378000aeaa72e3d606",
      "532c0ef9ab7c492c984269a67c08192f",
      "404bed0887d14d54be3109971b6a28f9",
      "cc9180830b1a48efa0eaa5cd372fe8be",
      "6489872330a54917be3375a4cbe2e692",
      "cfd2b8265cff48b68aeef58f0c61e60c",
      "87f2d0fcee3647a3ad834bd5870a0a77",
      "54b46ea5ceb24cadae77c0c97ed9c8c3",
      "202a16d751c14888bdfaae65808b1741",
      "a23cdbc47b3d4042afdbd4e2df242677",
      "fe06657dca604a49b4ec018d02561883",
      "94027ec6101249e1814c5693feed924a",
      "70fa96920f494a40a6840ac95becad1d",
      "05304600f7cd4c068602bad5cea54525",
      "4d53b4ebe3664737a0c987752dd44cd1",
      "0a81f5661cc74a2e9c1c8e4bf6168cc7",
      "8c849faf9aaf4e71b28fa4f9aefa06dc",
      "f98a4fa27544493eba4a4814eb7e38e9",
      "4a5b5292f0b94a148b2f7d1e00b85f76",
      "4f23a283bfb1479ca327c8020cdc4ad5",
      "2ecb00c6a2c54c208b7534d5d3045264",
      "ccf6a8ad58204e9b934f5c97f5c67403",
      "43c160ed2c3f4fc89834ea2c75016b72",
      "f0edea1a87da41809114ec47736b8383",
      "43777fc821aa4334a13171f75dc84d9f",
      "bf94b5ad94ed4035ba240cc83475d851",
      "14859ac9c29143c7a6018334126079e3",
      "379b3081c3ca4b288a3cecc1c96a7b48",
      "16d62aa49cdc4e02b9414293d3daf922",
      "e60f8ea7a9374a679444f0d3c768eb73",
      "331974a64852439ba989b167cd0ec83a",
      "aefd0d34dd0246b0b8871882c50d5ebe",
      "680cce466de24fec8731789c00780229",
      "91277d17cf884356b4cad142f1956fa8",
      "bc050587d1454021a157097b8cc2a5bd",
      "734c50e0037b4eeeb094744bdff60f7a",
      "0abfe2e573774943860b6ab6c6b254bf",
      "ae1a055f4b044b6980104cb7e24e3baf",
      "5a1674a4fae64015be331bb09eed454d",
      "9fd1dc0ff522410da0bbc4b90726c2c2",
      "eddcff62792548999692b171bb02202e",
      "cec8d84ea4ad41f98a2c17385714b911",
      "c1443c3b194a4947b82ac69ec4185cfb",
      "063a725d94ac456f831d52313c31c9f1",
      "e901449fff7d40898929c5f249b0c6a1",
      "74afbec0820b48dfa840fbe38e62fdac",
      "c2ad7d0197c74ff5b8729dd27f0fa1ec",
      "3eaebdb48aa749f58b10bf0e09a663ba",
      "ca1af60dbbe64495bc0446592acfb07f",
      "6bd1d29cd8a34f05a7744771f9f4a710",
      "614aec65b683428caef6af9d4c5e4bd1",
      "5acf016dcfc94dcfb07f6e88fc9fe7a5",
      "302ef69bc0224127bd4c92157177bb6e",
      "0cd9167bd5704b648ca53062c81c5e62",
      "aac9d0889274402f9a65e35b2e63699b"
     ]
    },
    "id": "GNCwJJwJ9gvr",
    "outputId": "00508254-9b4b-4077-ca0d-a066e4098c28"
   },
   "outputs": [],
   "source": [
    "from sentence_transformers import SentenceTransformer, util\n",
    "!apt install libomp-dev\n",
    "!pip install --upgrade faiss-cpu\n",
    "\n",
    "import faiss"
   ]
  },
  {
   "cell_type": "code",
   "execution_count": null,
   "metadata": {
    "id": "gzNThjfg_mvs"
   },
   "outputs": [],
   "source": [
    "sbert_model = SentenceTransformer('all-MiniLM-L6-v2')\n",
    "\n",
    "# Create SBERT embeddings for lyrics, returns (embeddings, list of song ids)\n",
    "def create_embeddings(df_sample, batch_size=32, output_path='lyrics_embeddings.pkl'):\n",
    "\n",
    "    # Get song IDs and lyrics\n",
    "    song_ids = df_sample['song_id'].tolist() if 'song_id' in df_sample.columns else [f\"song_{i}\" for i in range(len(df_sample))]\n",
    "    lyrics = df_sample['lyrics'].fillna('').tolist()\n",
    "\n",
    "    # Compute embeddings in batches\n",
    "    all_embeddings = []\n",
    "\n",
    "    for i in tqdm(range(0, len(lyrics), batch_size)):\n",
    "        batch = lyrics[i:i+batch_size]\n",
    "        batch_embeddings = sbert_model.encode(batch, convert_to_tensor=True)\n",
    "        all_embeddings.append(batch_embeddings)\n",
    "\n",
    "    # Concatenate all embeddings\n",
    "    embeddings = torch.cat(all_embeddings)\n",
    "\n",
    "    # Save embeddings and song ids\n",
    "    if output_path:\n",
    "        print(f\"Saving embeddings to {output_path}\")\n",
    "        os.makedirs(os.path.dirname(output_path) if os.path.dirname(output_path) else '.', exist_ok=True)\n",
    "        with open(output_path, 'wb') as f:\n",
    "            pickle.dump({\n",
    "                'embeddings': embeddings,\n",
    "                'song_ids': song_ids\n",
    "            }, f)\n",
    "\n",
    "    print(f\"Created embeddings with shape: {embeddings.shape}\")\n",
    "    return embeddings, song_ids"
   ]
  },
  {
   "cell_type": "code",
   "execution_count": null,
   "metadata": {
    "colab": {
     "base_uri": "https://localhost:8080/"
    },
    "id": "Ruc_8rI6Ehph",
    "outputId": "11627f93-833d-4f5e-87c4-5b0f24d10a04"
   },
   "outputs": [],
   "source": [
    "# Create embeddings for sampled song data\n",
    "embeddings, song_ids = create_embeddings(\n",
    "    df_sample,\n",
    "    batch_size=32,\n",
    "    output_path='lyrics_embeddings_300k.pkl'\n",
    ")"
   ]
  },
  {
   "cell_type": "code",
   "execution_count": null,
   "metadata": {
    "id": "_69Q_6_hFnF7"
   },
   "outputs": [],
   "source": [
    "# Create FAISS flat index for search, saves to given index path\n",
    "def create_faiss_index(embeddings, song_ids, index_path='lyrics_index.faiss'):\n",
    "\n",
    "    # Convert to numpy (required for FAISS)\n",
    "    embeddings_np = embeddings.cpu().numpy()\n",
    "\n",
    "    # Get dimensions\n",
    "    num_vectors, dimension = embeddings_np.shape\n",
    "\n",
    "    # Normalize vectors for cosine similarity\n",
    "    faiss.normalize_L2(embeddings_np)\n",
    "\n",
    "    # Create a flat index and add vectors\n",
    "    index = faiss.IndexFlatIP(dimension)\n",
    "    index.add(embeddings_np)\n",
    "\n",
    "    # Save the FAISS index\n",
    "    print(f\"Saving index to {index_path}\")\n",
    "    faiss.write_index(index, index_path)\n",
    "\n",
    "    # Save the mapping from index positions to song IDs\n",
    "    mapping_path = f\"{os.path.splitext(index_path)[0]}.ids.pkl\"\n",
    "    print(f\"Saving song ID mapping to {mapping_path}\")\n",
    "    with open(mapping_path, 'wb') as f:\n",
    "        pickle.dump(song_ids, f)\n",
    "\n",
    "    return index_path"
   ]
  },
  {
   "cell_type": "code",
   "execution_count": null,
   "metadata": {
    "colab": {
     "base_uri": "https://localhost:8080/"
    },
    "id": "FLu66F1_G_XH",
    "outputId": "103ddeb4-d48d-4019-a47a-871bf82d9755"
   },
   "outputs": [],
   "source": [
    "index_path = create_faiss_index(embeddings, song_ids, index_path='lyrics_index.faiss')"
   ]
  },
  {
   "cell_type": "code",
   "execution_count": null,
   "metadata": {
    "id": "IDWlvMYpHQMY"
   },
   "outputs": [],
   "source": [
    "def simple_search(query, index_path, df, top_k = 20):\n",
    "    # Load sbert model and index\n",
    "    model = SentenceTransformer('all-MiniLM-L6-v2')\n",
    "    index = faiss.read_index(index_path)\n",
    "\n",
    "    # Encode the query\n",
    "    query_embedding = model.encode(query, convert_to_numpy=True)\n",
    "    query_embedding = query_embedding.reshape(1, -1)\n",
    "    faiss.normalize_L2(query_embedding)\n",
    "\n",
    "    # Search\n",
    "    distances, indices = index.search(query_embedding, top_k)\n",
    "\n",
    "    print(f\"Found {len(indices[0])} matches\")\n",
    "\n",
    "    # Use positional matching\n",
    "    results = []\n",
    "    for i, idx in enumerate(indices[0]):\n",
    "        if idx >= 0 and idx < len(df):\n",
    "            song_data = df.iloc[idx]\n",
    "            results.append({\n",
    "                'position': idx,\n",
    "                'title': song_data['title'],\n",
    "                'artist': song_data['artist'],\n",
    "                'tag': song_data['tag'],\n",
    "                'year': song_data['year'],\n",
    "                'similarity_score': float(distances[0][i])\n",
    "            })\n",
    "\n",
    "    return results"
   ]
  },
  {
   "cell_type": "code",
   "execution_count": null,
   "metadata": {
    "colab": {
     "base_uri": "https://localhost:8080/"
    },
    "id": "XnZMC2qWIa3u",
    "outputId": "49b9854e-305d-4fed-f2e3-7de0e2db0ed5"
   },
   "outputs": [],
   "source": [
    "query = \"sad breakup songs about lost love\"\n",
    "results = simple_search(\n",
    "    query = query,\n",
    "    index_path = 'lyrics_index.faiss',\n",
    "    df = df_sample,\n",
    "    top_k = 20\n",
    ")\n",
    "\n",
    "print(\"\\nTop 10 Results:\")\n",
    "for i, result in enumerate(results[:10]):\n",
    "    print(f\"{i+1}. {result['title']} by {result['artist']} ({result['tag']}, {result['year']}) - Score: {result['similarity_score']:.4f}\")"
   ]
  },
  {
   "cell_type": "code",
   "execution_count": null,
   "metadata": {
    "colab": {
     "base_uri": "https://localhost:8080/"
    },
    "id": "-JSswpohI_qj",
    "outputId": "ed726fcb-e563-4daf-b15d-b07090bc01ce"
   },
   "outputs": [],
   "source": [
    "query = \"study music\"\n",
    "results = simple_search(\n",
    "    query = query,\n",
    "    index_path='lyrics_index.faiss',\n",
    "    df = df_sample,\n",
    "    top_k = 20\n",
    ")\n",
    "\n",
    "print(\"\\nTop 10 Results:\")\n",
    "for i, result in enumerate(results[:10]):\n",
    "    print(f\"{i+1}. {result['title']} by {result['artist']} ({result['tag']}, {result['year']}) - Score: {result['similarity_score']:.4f}\")"
   ]
  },
  {
   "cell_type": "code",
   "execution_count": null,
   "metadata": {
    "colab": {
     "base_uri": "https://localhost:8080/",
     "height": 17
    },
    "id": "5q-IX9PTMiny",
    "outputId": "13330b06-e748-4df1-d979-7e6312c596eb"
   },
   "outputs": [],
   "source": [
    "from google.colab import files\n",
    "\n",
    "# Download embeddings file\n",
    "files.download('lyrics_embeddings_300k.pkl')\n",
    "\n",
    "# Download FAISS index\n",
    "files.download('lyrics_index.faiss')\n",
    "\n",
    "# Download id mapping\n",
    "files.download('lyrics_index.ids.pkl')"
   ]
  }
 ],
 "metadata": {
  "accelerator": "GPU",
  "colab": {
   "gpuType": "T4",
   "machine_shape": "hm",
   "provenance": []
  },
  "kernelspec": {
   "display_name": "Python 3",
   "name": "python3"
  },
  "language_info": {
   "codemirror_mode": {
    "name": "ipython",
    "version": 3
   },
   "file_extension": ".py",
   "mimetype": "text/x-python",
   "name": "python",
   "nbconvert_exporter": "python",
   "pygments_lexer": "ipython3",
   "version": "3.11.4"
  }
 },
 "nbformat": 4,
 "nbformat_minor": 0
}
