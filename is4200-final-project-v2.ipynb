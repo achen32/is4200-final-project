{
 "cells": [
  {
   "cell_type": "code",
   "execution_count": 24,
   "metadata": {},
   "outputs": [
    {
     "name": "stderr",
     "output_type": "stream",
     "text": [
      "[nltk_data] Downloading package punkt to\n",
      "[nltk_data]     /Users/akshithabhashetty/nltk_data...\n",
      "[nltk_data]   Package punkt is already up-to-date!\n",
      "[nltk_data] Downloading package stopwords to\n",
      "[nltk_data]     /Users/akshithabhashetty/nltk_data...\n",
      "[nltk_data]   Package stopwords is already up-to-date!\n",
      "[nltk_data] Downloading package wordnet to\n",
      "[nltk_data]     /Users/akshithabhashetty/nltk_data...\n",
      "[nltk_data]   Package wordnet is already up-to-date!\n"
     ]
    }
   ],
   "source": [
    "# import the libraries\n",
    "import nltk\n",
    "import pandas as pd\n",
    "import numpy as np\n",
    "import re\n",
    "from nltk.tokenize import word_tokenize\n",
    "from nltk.stem import PorterStemmer\n",
    "from nltk.stem import WordNetLemmatizer\n",
    "from nltk.corpus import stopwords\n",
    "\n",
    "# download nltk resources for query preprocessing\n",
    "nltk.download('punkt')\n",
    "nltk.download('stopwords')\n",
    "nltk.download('wordnet')\n",
    "\n",
    "from spellchecker import SpellChecker\n",
    "from gensim.models import Word2Vec\n",
    "import gensim.downloader\n",
    "import spacy\n",
    "from spacy.tokens import Span\n",
    "from spacy.matcher import Matcher"
   ]
  },
  {
   "cell_type": "markdown",
   "metadata": {},
   "source": [
    "B Requirements"
   ]
  },
  {
   "cell_type": "code",
   "execution_count": 13,
   "metadata": {},
   "outputs": [],
   "source": [
    "# initialize Porter stemmer\n",
    "stemmer = PorterStemmer()\n",
    "\n",
    "# initialize the lemmatizer\n",
    "lemmitizer = WordNetLemmatizer()"
   ]
  },
  {
   "cell_type": "code",
   "execution_count": 6,
   "metadata": {},
   "outputs": [],
   "source": [
    "# create a set of stopwords\n",
    "stop_words = set(stopwords.words('english'))\n",
    "\n",
    "# remove a small subset of descriptive words considered as stopwords\n",
    "# could be important in understanding context/intent in query\n",
    "stop_words -= {'like', 'with', 'without', 'for', 'similar', 'to', 'in', 'by', 'as'}"
   ]
  },
  {
   "cell_type": "code",
   "execution_count": 7,
   "metadata": {},
   "outputs": [],
   "source": [
    "# flatten feature values to terms mapping (feature_mapping)"
   ]
  },
  {
   "cell_type": "code",
   "execution_count": 8,
   "metadata": {},
   "outputs": [],
   "source": [
    "# remove stopwords from tokenized query\n",
    "def remove_stopwords(tokens, stopwords) :\n",
    "    filtered_tokens = []\n",
    "    # iterate through tokens and keep words that are not in the stopwords\n",
    "    for token in tokens:\n",
    "        if token not in stopwords:\n",
    "            filtered_tokens.append(token)"
   ]
  },
  {
   "cell_type": "code",
   "execution_count": 12,
   "metadata": {},
   "outputs": [],
   "source": [
    "# textually normalizes the tokens (removes suffixes or finds root words)\n",
    "def textually_normalize_tokens(tokens, normalizer, stem=True):\n",
    "    normalized_tokens = []\n",
    "    # iterate through token and store stemmed token\n",
    "    for token in tokens:\n",
    "        # if it is a stemmer, then stem otherwise lemmatize\n",
    "        if stem:\n",
    "            normalized_tokens.append(normalizer.stem(token))\n",
    "        else:\n",
    "            normalized_tokens.append(normalizer.lemmatize(token))"
   ]
  },
  {
   "cell_type": "code",
   "execution_count": 14,
   "metadata": {},
   "outputs": [],
   "source": [
    "# preprocess query \n",
    "def preprocess_query(query, normalizer, stem=True):\n",
    "    # lowercase the query and then tokenize using nltk word tokenizer\n",
    "    query_tokens = word_tokenize(query.lower())\n",
    "\n",
    "    # remove stopwords from the query tokens\n",
    "    filtered_tokens = remove_stopwords(query_tokens)\n",
    "\n",
    "    # normalize tokens with lemmatizer or stemmer\n",
    "    normalized_tokens = textually_normalize_tokens(filtered_tokens, normalizer, stem)\n",
    "\n",
    "    return normalized_tokens\n"
   ]
  },
  {
   "cell_type": "code",
   "execution_count": 16,
   "metadata": {},
   "outputs": [],
   "source": [
    "# spell checking the query\n",
    "def autocorrect_query(tokens):\n",
    "    spell = SpellChecker()\n",
    "    # iterate through the tokens and if the token is mispelled (not seen in spell), \n",
    "    # then correct and replace in the list of tokens\n",
    "    for index, token in enumerate(tokens):\n",
    "        if token not in spell:\n",
    "            tokens[index] = spell.correction(token)\n",
    "    return tokens"
   ]
  },
  {
   "cell_type": "code",
   "execution_count": 22,
   "metadata": {},
   "outputs": [
    {
     "name": "stdout",
     "output_type": "stream",
     "text": [
      "[==================================================] 100.0% 1662.8/1662.8MB downloaded\n"
     ]
    }
   ],
   "source": [
    "# load the pre-trained word2vec model, potentially fine-tune later\n",
    "word2vec_model = gensim.downloader.load('word2vec-google-news-300')"
   ]
  },
  {
   "cell_type": "code",
   "execution_count": 23,
   "metadata": {},
   "outputs": [],
   "source": [
    "# find similar words from the word2vec model\n",
    "def add_similar_query_tokens(tokens, model):\n",
    "    similar_terms = []\n",
    "    # for each token in the query, find 2 similar terms and append\n",
    "    for token in tokens:\n",
    "        # find the 2 most similar words to this token\n",
    "        similar_terms_for_token = model.most_similar(token, 3)\n",
    "        final_similar_terms_for_token = []\n",
    "        # remove any terms that are too different (low similarity)\n",
    "        for term, similarity_score in similar_terms_for_token:\n",
    "            if len(final_similar_terms_for_token) < 2:\n",
    "                if term not in tokens and similarity_score >= 0.7:\n",
    "                    final_similar_terms_for_token.append(term)\n",
    "        # append the similar terms for this token to the overall list\n",
    "        similar_terms.extend(final_similar_terms_for_token)\n",
    "    # return the similar terms for this query\n",
    "    return similar_terms"
   ]
  },
  {
   "cell_type": "code",
   "execution_count": null,
   "metadata": {},
   "outputs": [],
   "source": []
  }
 ],
 "metadata": {
  "kernelspec": {
   "display_name": "base",
   "language": "python",
   "name": "python3"
  },
  "language_info": {
   "codemirror_mode": {
    "name": "ipython",
    "version": 3
   },
   "file_extension": ".py",
   "mimetype": "text/x-python",
   "name": "python",
   "nbconvert_exporter": "python",
   "pygments_lexer": "ipython3",
   "version": "3.12.7"
  }
 },
 "nbformat": 4,
 "nbformat_minor": 2
}
