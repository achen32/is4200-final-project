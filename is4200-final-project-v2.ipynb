{
 "cells": [
  {
   "cell_type": "code",
   "execution_count": 4,
   "metadata": {},
   "outputs": [
    {
     "name": "stderr",
     "output_type": "stream",
     "text": [
      "[nltk_data] Downloading package punkt to\n",
      "[nltk_data]     /Users/akshithabhashetty/nltk_data...\n",
      "[nltk_data]   Package punkt is already up-to-date!\n",
      "[nltk_data] Downloading package stopwords to\n",
      "[nltk_data]     /Users/akshithabhashetty/nltk_data...\n",
      "[nltk_data]   Package stopwords is already up-to-date!\n",
      "[nltk_data] Downloading package wordnet to\n",
      "[nltk_data]     /Users/akshithabhashetty/nltk_data...\n",
      "[nltk_data]   Package wordnet is already up-to-date!\n"
     ]
    },
    {
     "data": {
      "text/plain": [
       "True"
      ]
     },
     "execution_count": 4,
     "metadata": {},
     "output_type": "execute_result"
    }
   ],
   "source": [
    "# import the libraries\n",
    "import nltk\n",
    "import pandas as pd\n",
    "import numpy as np\n",
    "import re\n",
    "from nltk.tokenize import word_tokenize\n",
    "from nltk.stem import PorterStemmer\n",
    "from nltk.stem import WordNetLemmatizer\n",
    "from nltk.corpus import stopwords\n",
    "\n",
    "# download nltk resources for query preprocessing\n",
    "nltk.download('punkt')\n",
    "nltk.download('stopwords')\n",
    "nltk.download('wordnet')"
   ]
  },
  {
   "cell_type": "markdown",
   "metadata": {},
   "source": [
    "B Requirements"
   ]
  },
  {
   "cell_type": "code",
   "execution_count": 13,
   "metadata": {},
   "outputs": [],
   "source": [
    "# initialize Porter stemmer\n",
    "stemmer = PorterStemmer()\n",
    "\n",
    "# initialize the lemmatizer\n",
    "lemmitizer = WordNetLemmatizer()"
   ]
  },
  {
   "cell_type": "code",
   "execution_count": 6,
   "metadata": {},
   "outputs": [],
   "source": [
    "# create a set of stopwords\n",
    "stop_words = set(stopwords.words('english'))\n",
    "\n",
    "# remove a small subset of descriptive words considered as stopwords\n",
    "# could be important in understanding context/intent in query\n",
    "stop_words -= {'like', 'with', 'without', 'for', 'similar', 'to', 'in', 'by', 'as'}"
   ]
  },
  {
   "cell_type": "code",
   "execution_count": 7,
   "metadata": {},
   "outputs": [],
   "source": [
    "# flatten feature values to terms mapping (feature_mapping)"
   ]
  },
  {
   "cell_type": "code",
   "execution_count": 8,
   "metadata": {},
   "outputs": [],
   "source": [
    "# remove stopwords from tokenized query\n",
    "def remove_stopwords(tokens, stopwords) :\n",
    "    filtered_tokens = []\n",
    "    # iterate through tokens and keep words that are not in the stopwords\n",
    "    for token in tokens:\n",
    "        if token not in stopwords:\n",
    "            filtered_tokens.append(token)"
   ]
  },
  {
   "cell_type": "code",
   "execution_count": 12,
   "metadata": {},
   "outputs": [],
   "source": [
    "# textually normalizes the tokens (removes suffixes or finds root words)\n",
    "def textually_normalize_tokens(tokens, normalizer, stem=True):\n",
    "    normalized_tokens = []\n",
    "    # iterate through token and store stemmed token\n",
    "    for token in tokens:\n",
    "        # if it is a stemmer, then stem otherwise lemmatize\n",
    "        if stem:\n",
    "            normalized_tokens.append(normalizer.stem(token))\n",
    "        else:\n",
    "            normalized_tokens.append(normalizer.lemmatize(token))"
   ]
  },
  {
   "cell_type": "code",
   "execution_count": 14,
   "metadata": {},
   "outputs": [],
   "source": [
    "# preprocess query \n",
    "def preprocess_query(query, normalizer, stem=True):\n",
    "    # lowercase the query and then tokenize using nltk word tokenizer\n",
    "    query_tokens = word_tokenize(query.lower())\n",
    "\n",
    "    # remove stopwords from the query tokens\n",
    "    filtered_tokens = remove_stopwords(query_tokens)\n",
    "\n",
    "    # normalize tokens with lemmatizer or stemmer\n",
    "    normalized_tokens = textually_normalize_tokens(filtered_tokens, normalizer, stem)\n",
    "\n",
    "    return normalized_tokens\n"
   ]
  },
  {
   "cell_type": "code",
   "execution_count": null,
   "metadata": {},
   "outputs": [],
   "source": []
  }
 ],
 "metadata": {
  "kernelspec": {
   "display_name": "base",
   "language": "python",
   "name": "python3"
  },
  "language_info": {
   "codemirror_mode": {
    "name": "ipython",
    "version": 3
   },
   "file_extension": ".py",
   "mimetype": "text/x-python",
   "name": "python",
   "nbconvert_exporter": "python",
   "pygments_lexer": "ipython3",
   "version": "3.12.7"
  }
 },
 "nbformat": 4,
 "nbformat_minor": 2
}
